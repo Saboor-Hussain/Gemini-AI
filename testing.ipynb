{
 "cells": [
  {
   "cell_type": "code",
   "execution_count": 8,
   "metadata": {},
   "outputs": [],
   "source": [
    "import google.generativeai as genai\n",
    "import os\n",
    "from IPython.display import display\n",
    "from IPython.display import Markdown\n",
    "import textwrap"
   ]
  },
  {
   "cell_type": "code",
   "execution_count": 2,
   "metadata": {},
   "outputs": [],
   "source": [
    "GOOGLE_API_KEY=os.getenv('GOOGLE_API_KEY')\n",
    "\n",
    "genai.configure(api_key=GOOGLE_API_KEY)"
   ]
  },
  {
   "cell_type": "code",
   "execution_count": 3,
   "metadata": {},
   "outputs": [],
   "source": [
    "model = genai.GenerativeModel('gemini-pro')"
   ]
  },
  {
   "cell_type": "code",
   "execution_count": 4,
   "metadata": {},
   "outputs": [
    {
     "name": "stdout",
     "output_type": "stream",
     "text": [
      "CPU times: total: 31.2 ms\n",
      "Wall time: 9.69 s\n"
     ]
    }
   ],
   "source": [
    "%%time\n",
    "response = model.generate_content(\"What is the meaning of life?\")"
   ]
  },
  {
   "cell_type": "code",
   "execution_count": 5,
   "metadata": {},
   "outputs": [
    {
     "name": "stdout",
     "output_type": "stream",
     "text": [
      "1. **To Find Happiness and Fulfillment**: A common belief is that the meaning of life is to find happiness and fulfillment. This can be achieved through pursuing one's passions, forming meaningful relationships, and engaging in activities that bring joy and satisfaction.\n",
      "\n",
      "\n",
      "2. **To Make a Positive Impact**: For many people, the meaning of life lies in making a positive impact on the world. This can involve contributing to society through one's work, volunteering, or simply being kind and helpful to others.\n",
      "\n",
      "\n",
      "3. **To Grow and Learn**: Some believe that the meaning of life is to grow and learn as a person. This can involve seeking knowledge, developing new skills, and expanding one's perspectives through travel and new experiences.\n",
      "\n",
      "\n",
      "4. **To Connect with Others**: Humans are social beings, and many find meaning in life through their relationships with others. This can involve building strong bonds with family and friends, forming a sense of community, and contributing to the greater good.\n",
      "\n",
      "\n",
      "5. **To Serve a Higher Purpose**: Many religions and spiritual traditions propose that life has a higher purpose, such as serving God, following a moral code, or achieving enlightenment. For believers, fulfilling this purpose gives their life meaning and direction.\n",
      "\n",
      "\n",
      "6. **To Create and Express**: Some find meaning in life through creative pursuits, such as art, music, writing, or design. By expressing themselves and sharing their creations with the world, they feel a sense of purpose and fulfillment.\n",
      "\n",
      "\n",
      "7. **To Experience Life Fully**: For some, the meaning of life is simply to experience all that it has to offer. This can involve embracing new challenges, taking risks, and living life to the fullest, without any specific goal or purpose in mind.\n",
      "\n",
      "\n",
      "8. **To Leave a Legacy**: Many people find meaning in life by leaving a lasting impact on the world. This can be through their work, their relationships, their creative endeavors, or their contributions to society.\n",
      "\n",
      "\n",
      "9. **To Find Inner Peace**: For some, the meaning of life is to find inner peace and tranquility. This can involve practicing mindfulness, meditation, or other spiritual practices that help them connect with their inner selves and find a sense of calm and contentment.\n",
      "\n",
      "\n",
      "10. **To Be Present**: Finally, some believe that the meaning of life is simply to be present in the moment and appreciate the beauty and wonder of the world around them. By practicing gratitude, living in the present, and savoring each experience, they find meaning and fulfillment in the everyday moments of life.\n",
      "\n",
      "It's important to note that there is no one definitive answer to the question of the meaning of life. Each individual must explore and decide for themselves what gives their life purpose and fulfillment.\n"
     ]
    }
   ],
   "source": [
    "print(response.text)"
   ]
  },
  {
   "cell_type": "code",
   "execution_count": 7,
   "metadata": {},
   "outputs": [],
   "source": [
    "def to_markdown(text):\n",
    "  text = text.replace('•', '  *')\n",
    "  return Markdown(textwrap.indent(text, '> ', predicate=lambda _: True))"
   ]
  },
  {
   "cell_type": "code",
   "execution_count": 9,
   "metadata": {},
   "outputs": [],
   "source": [
    "prompt = \"\"\"\n",
    "What is the Capital of Pakistan?/\n",
    "Which is the biggest city in Pakistan?\n",
    "\"\"\"\n",
    "\n",
    "response = model.generate_content(prompt)"
   ]
  },
  {
   "cell_type": "code",
   "execution_count": 15,
   "metadata": {},
   "outputs": [
    {
     "data": {
      "text/markdown": [
       "> * **Capital of Pakistan:** Islamabad\n",
       "> * **Biggest city in Pakistan:** Karachi"
      ],
      "text/plain": [
       "<IPython.core.display.Markdown object>"
      ]
     },
     "execution_count": 15,
     "metadata": {},
     "output_type": "execute_result"
    }
   ],
   "source": [
    "to_markdown(response.text)"
   ]
  },
  {
   "cell_type": "code",
   "execution_count": 16,
   "metadata": {},
   "outputs": [
    {
     "data": {
      "text/plain": [
       "safety_ratings {\n",
       "  category: HARM_CATEGORY_SEXUALLY_EXPLICIT\n",
       "  probability: NEGLIGIBLE\n",
       "}\n",
       "safety_ratings {\n",
       "  category: HARM_CATEGORY_HATE_SPEECH\n",
       "  probability: NEGLIGIBLE\n",
       "}\n",
       "safety_ratings {\n",
       "  category: HARM_CATEGORY_HARASSMENT\n",
       "  probability: NEGLIGIBLE\n",
       "}\n",
       "safety_ratings {\n",
       "  category: HARM_CATEGORY_DANGEROUS_CONTENT\n",
       "  probability: NEGLIGIBLE\n",
       "}"
      ]
     },
     "execution_count": 16,
     "metadata": {},
     "output_type": "execute_result"
    }
   ],
   "source": [
    "response.prompt_feedback"
   ]
  },
  {
   "cell_type": "code",
   "execution_count": 17,
   "metadata": {},
   "outputs": [
    {
     "data": {
      "text/plain": [
       "[index: 0\n",
       "content {\n",
       "  parts {\n",
       "    text: \"* **Capital of Pakistan:** Islamabad\\n* **Biggest city in Pakistan:** Karachi\"\n",
       "  }\n",
       "  role: \"model\"\n",
       "}\n",
       "finish_reason: STOP\n",
       "safety_ratings {\n",
       "  category: HARM_CATEGORY_SEXUALLY_EXPLICIT\n",
       "  probability: NEGLIGIBLE\n",
       "}\n",
       "safety_ratings {\n",
       "  category: HARM_CATEGORY_HATE_SPEECH\n",
       "  probability: NEGLIGIBLE\n",
       "}\n",
       "safety_ratings {\n",
       "  category: HARM_CATEGORY_HARASSMENT\n",
       "  probability: NEGLIGIBLE\n",
       "}\n",
       "safety_ratings {\n",
       "  category: HARM_CATEGORY_DANGEROUS_CONTENT\n",
       "  probability: NEGLIGIBLE\n",
       "}\n",
       "]"
      ]
     },
     "execution_count": 17,
     "metadata": {},
     "output_type": "execute_result"
    }
   ],
   "source": [
    "response.candidates"
   ]
  },
  {
   "attachments": {},
   "cell_type": "markdown",
   "metadata": {},
   "source": [
    "## Streaming"
   ]
  },
  {
   "cell_type": "code",
   "execution_count": 26,
   "metadata": {},
   "outputs": [],
   "source": [
    "response = model.generate_content(\"What is the meaning of life?\", stream=True)"
   ]
  },
  {
   "cell_type": "code",
   "execution_count": 23,
   "metadata": {},
   "outputs": [
    {
     "name": "stdout",
     "output_type": "stream",
     "text": [
      "CPU times: total: 0 ns\n",
      "Wall time: 1.09 s\n"
     ]
    }
   ],
   "source": [
    "%%time\n",
    "response = model.generate_content(\"What is the meaning of life?\", stream=True)"
   ]
  },
  {
   "cell_type": "code",
   "execution_count": 28,
   "metadata": {},
   "outputs": [
    {
     "name": "stdout",
     "output_type": "stream",
     "text": [
      "1. **Eudaimonia:** (Aristotle) The Greek philosopher Aristotle believed\n",
      "________________________________________________________________________________\n",
      " that the meaning of life is to achieve eudaimonia, which is commonly translated as \"happiness\" or \"flourishing.\" According to Aristotle, euda\n",
      "________________________________________________________________________________\n",
      "imonia is the highest human good and the ultimate goal of human existence. It is achieved through living a virtuous life in accordance with reason and nature, and by engaging in activities that are fulfilling and meaningful to the individual.\n",
      "\n",
      "\n",
      "2. **Hedonism:** (Epicurus) The Greek philosopher Epicurus believed that the\n",
      "________________________________________________________________________________\n",
      " meaning of life is to pursue pleasure and avoid pain. According to Epicurus, pleasure is the highest good and the ultimate goal of human existence. He believed that people should seek out pleasures that are natural and moderate, and avoid pleasures that are harmful or excessive.\n",
      "\n",
      "\n",
      "3. **Existentialism:** (Jean-Paul Sartre) The existentialist philosopher Jean-Paul Sartre believed that the meaning of life is to create one's own meaning through free choice and action. According to Sartre, human beings are free to choose their own path in life, and they are responsible for creating their own values and meaning. He believed that people should embrace\n",
      "________________________________________________________________________________\n",
      " their freedom and authenticity, and live a life that is true to themselves.\n",
      "\n",
      "\n",
      "4. **Buddhism:** (Buddha) The Buddhist tradition teaches that the meaning of life is to end suffering and achieve nirvana. According to Buddhism, suffering is caused by attachment to desires and the illusion of self. To end suffering, people must let go of their attachments and realize that the self is an illusion. Nirvana is a state of perfect peace and happiness that is achieved through the practice of meditation and mindfulness.\n",
      "\n",
      "\n",
      "5. **Humanism:** (Humanist Manifesto) Humanism is a philosophical and ethical stance that emphasizes the value and agency of human beings. Humanists believe that the meaning of life is to live a good and fulfilling life, without the need for supernatural or religious beliefs. They emphasize the importance of reason, compassion, and empathy, and believe that people should strive to make the world a better place for all.\n",
      "\n",
      "\n",
      "6. **Stoicism:** (Zeno of Citium) The Stoic philosopher Zeno of Citium believed that the meaning of life is to live in accordance with nature and reason. According to Stoicism, people should strive to live in harmony with the universe and to accept whatever life brings them. They should focus on developing their inner strength and resilience, and\n",
      "________________________________________________________________________________\n",
      " on living a life that is virtuous and ethical.\n",
      "\n",
      "\n",
      "7. **Naturalism:** (Naturalist philosophers) Naturalism is a philosophical worldview that rejects the existence of supernatural or spiritual entities. Naturalists believe that the meaning of life is to live a fulfilling and meaningful life within the natural world. They emphasize the importance of science and reason, and believe that people should strive to understand the natural world and to live in harmony with it.\n",
      "________________________________________________________________________________\n"
     ]
    }
   ],
   "source": [
    "for chunk in response:\n",
    "  print(chunk.text)\n",
    "  print(\"_\"*80)"
   ]
  },
  {
   "cell_type": "code",
   "execution_count": 29,
   "metadata": {},
   "outputs": [
    {
     "name": "stdout",
     "output_type": "stream",
     "text": [
      "In a small town nestled at the foot of a mystical forest, there lived a\n",
      "________________________________________________________________________________\n",
      " young girl named Lily. Her curiosity knew no bounds, and she spent her days exploring the woods, discovering hidden treasures and forming friendships with the creatures that resided within\n",
      "________________________________________________________________________________\n",
      ".\n",
      "\n",
      "One sunny morning, while wandering through a dense thicket, Lily stumbled upon a peculiar backpack lying half-hidden under a fallen tree. Intrigued, she reached down to pick it up, and as her fingers brushed against the fabric, a surge of warmth coursed through her body. The backpack seemed to come\n",
      "________________________________________________________________________________\n",
      " alive, radiating a gentle glow that illuminated the surrounding area.\n",
      "\n",
      "As Lily examined her newfound treasure, she realized that it was no ordinary backpack. It possessed a magic that she had never encountered before. With a mix of awe and trepidation, she opened the flap to reveal a seemingly bottomless interior, capable of holding an infinite number of items.\n",
      "\n",
      "Overjoyed, Lily wasted no time in filling her magical backpack with all the wonders she discovered during her adventures in the forest. Enchanted flowers that never wilted, sparkling crystals that emitted a soft light, and even a mischievous pixie named Twinkle joined her collection.\n",
      "\n",
      "As the days\n",
      "________________________________________________________________________________\n",
      " turned into weeks, Lily's backpack became a treasure trove of magical wonders. It seemed to grow and adapt to her needs, providing her with exactly what she required, whenever she needed it. A compass that always pointed in the direction of her home, a cloak that protected her from the elements, and a flute that played enchanting melodies that could soothe even the most troubled creatures.\n",
      "\n",
      "Word of Lily's magical backpack spread throughout the forest, and soon, creatures from all corners of the woods came to seek her help. A wise owl sought her aid in finding a lost book of spells, a family of fairies needed her assistance in repairing their miniature village after a storm, and a grumpy old troll asked for her help in mending his broken heart.\n",
      "\n",
      "With her magical backpack by her side, Lily embarked on countless adventures, using its powers to help those in need and spread joy wherever she went. The forest thrived under her care, and the creatures that inhabited it learned to live in harmony with one another.\n",
      "\n",
      "Through her experiences, Lily discovered that the true magic of her backpack lay not in its ability to hold countless wonders but in its power to bring happiness and unity to the forest. And so, with her loyal companion always at her side, Lily continued to explore the mystical\n",
      "________________________________________________________________________________\n",
      " woods, creating a legacy of wonder and kindness that would be remembered for generations to come.\n",
      "________________________________________________________________________________\n"
     ]
    }
   ],
   "source": [
    "response = model.generate_content(\"Write a story about a magic backpack\" , stream=True)\n",
    "output = \"\"\n",
    "for chunk in response:\n",
    "  output += chunk.text\n",
    "  print(chunk.text)\n",
    "  print(\"_\"*80)"
   ]
  },
  {
   "cell_type": "code",
   "execution_count": 30,
   "metadata": {},
   "outputs": [
    {
     "data": {
      "text/markdown": [
       "> In a small town nestled at the foot of a mystical forest, there lived a young girl named Lily. Her curiosity knew no bounds, and she spent her days exploring the woods, discovering hidden treasures and forming friendships with the creatures that resided within.\n",
       "> \n",
       "> One sunny morning, while wandering through a dense thicket, Lily stumbled upon a peculiar backpack lying half-hidden under a fallen tree. Intrigued, she reached down to pick it up, and as her fingers brushed against the fabric, a surge of warmth coursed through her body. The backpack seemed to come alive, radiating a gentle glow that illuminated the surrounding area.\n",
       "> \n",
       "> As Lily examined her newfound treasure, she realized that it was no ordinary backpack. It possessed a magic that she had never encountered before. With a mix of awe and trepidation, she opened the flap to reveal a seemingly bottomless interior, capable of holding an infinite number of items.\n",
       "> \n",
       "> Overjoyed, Lily wasted no time in filling her magical backpack with all the wonders she discovered during her adventures in the forest. Enchanted flowers that never wilted, sparkling crystals that emitted a soft light, and even a mischievous pixie named Twinkle joined her collection.\n",
       "> \n",
       "> As the days turned into weeks, Lily's backpack became a treasure trove of magical wonders. It seemed to grow and adapt to her needs, providing her with exactly what she required, whenever she needed it. A compass that always pointed in the direction of her home, a cloak that protected her from the elements, and a flute that played enchanting melodies that could soothe even the most troubled creatures.\n",
       "> \n",
       "> Word of Lily's magical backpack spread throughout the forest, and soon, creatures from all corners of the woods came to seek her help. A wise owl sought her aid in finding a lost book of spells, a family of fairies needed her assistance in repairing their miniature village after a storm, and a grumpy old troll asked for her help in mending his broken heart.\n",
       "> \n",
       "> With her magical backpack by her side, Lily embarked on countless adventures, using its powers to help those in need and spread joy wherever she went. The forest thrived under her care, and the creatures that inhabited it learned to live in harmony with one another.\n",
       "> \n",
       "> Through her experiences, Lily discovered that the true magic of her backpack lay not in its ability to hold countless wonders but in its power to bring happiness and unity to the forest. And so, with her loyal companion always at her side, Lily continued to explore the mystical woods, creating a legacy of wonder and kindness that would be remembered for generations to come."
      ],
      "text/plain": [
       "<IPython.core.display.Markdown object>"
      ]
     },
     "execution_count": 30,
     "metadata": {},
     "output_type": "execute_result"
    }
   ],
   "source": [
    "to_markdown(output)"
   ]
  },
  {
   "cell_type": "code",
   "execution_count": null,
   "metadata": {},
   "outputs": [],
   "source": []
  }
 ],
 "metadata": {
  "kernelspec": {
   "display_name": "Python 3",
   "language": "python",
   "name": "python3"
  },
  "language_info": {
   "codemirror_mode": {
    "name": "ipython",
    "version": 3
   },
   "file_extension": ".py",
   "mimetype": "text/x-python",
   "name": "python",
   "nbconvert_exporter": "python",
   "pygments_lexer": "ipython3",
   "version": "3.11.2"
  },
  "orig_nbformat": 4,
  "vscode": {
   "interpreter": {
    "hash": "b82fa4d52eda704bdb1278ba9e82e4d1f9d454bcbe3902e876378efe4cd951d2"
   }
  }
 },
 "nbformat": 4,
 "nbformat_minor": 2
}
